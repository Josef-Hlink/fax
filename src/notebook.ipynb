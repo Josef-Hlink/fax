{
 "cells": [
  {
   "cell_type": "code",
   "execution_count": null,
   "id": "54892cd5",
   "metadata": {},
   "outputs": [],
   "source": [
    "import os\n",
    "import random\n",
    "import peppi_py as peppi\n",
    "from fax.paths import PATHS\n",
    "\n",
    "import numpy as np\n",
    "import matplotlib.pyplot as plt"
   ]
  },
  {
   "cell_type": "code",
   "execution_count": null,
   "id": "4e066699",
   "metadata": {},
   "outputs": [],
   "source": [
    "# replay = random.choice(list(PATHS.replays.glob(\"*.slp\")))\n",
    "# take second-most recent replay\n",
    "replays = list(PATHS.replays.glob(\"*.slp\"))\n",
    "replays.sort(key=os.path.getmtime, reverse=True)\n",
    "replay = replays[1]\n",
    "\n",
    "print(f\"Selected replay: {replay}\")\n",
    "print(f\"Replay size: {os.path.getsize(replay) / 1e6:.2f} MB\")\n",
    "\n",
    "try:\n",
    "    game = peppi.read_slippi(str(replay))\n",
    "except OSError as e:\n",
    "    print(f\"Error reading replay: {e}\")\n",
    "    exit(1)\n",
    "# i've been getting the following errors for some replays:\n",
    "# - TypeError: 'NoneType' object cannot be converted to 'PyDict'\n",
    "# - I/O error: failed to fill the whole buffer\n",
    "\n",
    "print(f\"players: {game.metadata['players']}\")"
   ]
  },
  {
   "cell_type": "code",
   "execution_count": null,
   "id": "6e6df0f6",
   "metadata": {},
   "outputs": [],
   "source": [
    "pp1 = game.frames.ports[0].leader.post.position\n",
    "pp2 = game.frames.ports[1].leader.post.position"
   ]
  },
  {
   "cell_type": "code",
   "execution_count": null,
   "id": "24e72c15",
   "metadata": {},
   "outputs": [],
   "source": [
    "fig, (ax1, ax2) = plt.subplots(1, 2, figsize=(12, 6), sharey=True, sharex=True)\n",
    "ax1.scatter(pp1.x, pp1.y, c=np.arange(len(pp1.x)), cmap='viridis')\n",
    "ax2.scatter(pp2.x, pp2.y, c=np.arange(len(pp2.x)), cmap='viridis')\n",
    "ax1.set_title(\"Player 1\")\n",
    "ax2.set_title(\"Player 2\")\n",
    "ax1.grid(True)\n",
    "ax2.grid(True)\n",
    "fig.suptitle(\"Player Positions Over Time\")\n",
    "fig.tight_layout()"
   ]
  }
 ],
 "metadata": {
  "kernelspec": {
   "display_name": ".venv",
   "language": "python",
   "name": "python3"
  },
  "language_info": {
   "codemirror_mode": {
    "name": "ipython",
    "version": 3
   },
   "file_extension": ".py",
   "mimetype": "text/x-python",
   "name": "python",
   "nbconvert_exporter": "python",
   "pygments_lexer": "ipython3",
   "version": "3.12.10"
  }
 },
 "nbformat": 4,
 "nbformat_minor": 5
}
